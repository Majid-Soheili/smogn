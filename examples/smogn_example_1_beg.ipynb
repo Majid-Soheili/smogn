{
 "nbformat": 4,
 "nbformat_minor": 0,
 "metadata": {
  "colab": {
   "name": "smogn-example-1-beg.ipynb",
   "provenance": [],
   "collapsed_sections": []
  },
  "kernelspec": {
   "name": "python3",
   "language": "python",
   "display_name": "Python 3 (ipykernel)"
  }
 },
 "cells": [
  {
   "cell_type": "code",
   "outputs": [],
   "source": [
    "# SMOGN (0.1.0): Usage\n",
    "---\n",
    "## Example 1: Beginner\n"
   ],
   "metadata": {
    "collapsed": false
   }
  },
  {
   "cell_type": "markdown",
   "source": [],
   "metadata": {
    "collapsed": false
   }
  },
  {
   "cell_type": "markdown",
   "metadata": {
    "id": "YOSHCUHR--nw",
    "colab_type": "text"
   },
   "source": [
    "## Installation\n",
    "\n",
    "First, we install SMOGN from the Github repository. Alternatively, we could install from the official PyPI distribution. However, the developer version is utilized here for the latest release."
   ]
  },
  {
   "cell_type": "code",
   "metadata": {
    "id": "u9SqBgJ8rduy",
    "colab_type": "code",
    "colab": {}
   },
   "source": [
    "## suppress install output\n",
    "%%capture\n",
    "\n",
    "## install pypi release\n",
    "# !pip install smogn\n",
    "\n",
    "## install developer version\n",
    "!pip install git+https://github.com/nickkunz/smogn.git"
   ],
   "execution_count": 0,
   "outputs": []
  },
  {
   "cell_type": "markdown",
   "metadata": {
    "id": "gKhs9eJd_Ab6",
    "colab_type": "text"
   },
   "source": [
    "## Dependencies\n",
    "Next, we load the required dependencies. Here we import `smogn` to later apply Synthetic Minority Over-Sampling Technique for Regression with Gaussian Noise. In addition, we use `pandas` for data handling, and `seaborn` to visualize our results."
   ]
  },
  {
   "cell_type": "code",
   "metadata": {
    "id": "fPB6tSLinAFS",
    "colab_type": "code",
    "colab": {},
    "ExecuteTime": {
     "end_time": "2024-02-04T22:02:43.825446Z",
     "start_time": "2024-02-04T22:02:43.813634Z"
    }
   },
   "source": [
    "## load dependencies\n",
    "import smogn\n",
    "import pandas\n",
    "import seaborn\n",
    "import numpy"
   ],
   "execution_count": 1,
   "outputs": []
  },
  {
   "cell_type": "markdown",
   "metadata": {
    "id": "do8cJ25c_HcF",
    "colab_type": "text"
   },
   "source": [
    "## Data\n",
    "After, we load our data. In this example, we use the Ames Housing Dataset training split retreived from Kaggle, originally complied by Dean De Cock. In this case, we name our training set `housing`\n"
   ]
  },
  {
   "cell_type": "code",
   "metadata": {
    "id": "RaFdQ2od-qVO",
    "colab_type": "code",
    "colab": {},
    "ExecuteTime": {
     "end_time": "2024-02-04T22:02:45.808383Z",
     "start_time": "2024-02-04T22:02:45.629121Z"
    }
   },
   "source": [
    "## load data\n",
    "housing = pandas.read_csv(\n",
    "\n",
    "    ## http://jse.amstat.org/v19n3/decock.pdf\n",
    "    'https://raw.githubusercontent.com/nickkunz/smogn/master/data/housing.csv'\n",
    ")"
   ],
   "execution_count": 2,
   "outputs": []
  },
  {
   "cell_type": "markdown",
   "metadata": {
    "id": "D71nm6Co_KK-",
    "colab_type": "text"
   },
   "source": [
    "## Synthetic Minority Over-Sampling Technique for Regression with Gaussian Noise\n",
    "Here we cover the focus of this example. We call the `smoter` function from this package (`smogn.smoter`) and satisfy the minimum required arguments: `data` and `y`.\n",
    "\n",
    "* The `data` argument takes a Pandas DataFrame, which contains the training set split. In this example, we input the previously loaded `housing` training set with follow input: `data = housing`\n",
    "\n",
    "* The `y` argument takes a string, which specifies a continuous reponse variable by header name. In this example, we input `'SalePrice'` in the interest of predicting the sale price of homes in Ames, Iowa with the following input: `y = 'SalePrice'`"
   ]
  },
  {
   "cell_type": "code",
   "metadata": {
    "id": "9qRV9hjPjJVF",
    "colab_type": "code",
    "colab": {},
    "ExecuteTime": {
     "end_time": "2024-02-04T22:02:50.807825Z",
     "start_time": "2024-02-04T22:02:47.492993Z"
    }
   },
   "source": [
    "## conduct smogn\n",
    "housing_smogn = smogn.smoter(\n",
    "    \n",
    "    data = housing,  ## pandas dataframe\n",
    "    y = 'SalePrice'  ## string ('header name')\n",
    ")"
   ],
   "execution_count": 3,
   "outputs": [
    {
     "name": "stderr",
     "output_type": "stream",
     "text": [
      "dist_matrix: 100%|##########| 215/215 [00:01<00:00, 183.94it/s]\n",
      "synth_matrix: 100%|##########| 215/215 [00:01<00:00, 128.46it/s]\n",
      "r_index: 100%|##########| 84/84 [00:00<00:00, 235.87it/s]\n"
     ]
    }
   ]
  },
  {
   "cell_type": "code",
   "metadata": {
    "id": "6IjxkbBwspsN",
    "colab_type": "code",
    "outputId": "06f72df3-0965-4692-a4a6-7c116fd6c2c3",
    "colab": {
     "base_uri": "https://localhost:8080/",
     "height": 34
    },
    "ExecuteTime": {
     "end_time": "2024-02-04T22:02:51.884212Z",
     "start_time": "2024-02-04T22:02:51.875073Z"
    }
   },
   "source": [
    "## box plot stats - original data \n",
    "smogn.box_plot_stats(housing['SalePrice'])['stats']"
   ],
   "execution_count": 4,
   "outputs": [
    {
     "data": {
      "text/plain": "array([ 34900., 129950., 163000., 214000., 340000.])"
     },
     "execution_count": 4,
     "metadata": {},
     "output_type": "execute_result"
    }
   ]
  },
  {
   "cell_type": "code",
   "metadata": {
    "id": "MCZtVBfU-CLM",
    "colab_type": "code",
    "outputId": "8a69d459-9092-473c-a095-338f8f1ba435",
    "colab": {
     "base_uri": "https://localhost:8080/",
     "height": 34
    },
    "ExecuteTime": {
     "end_time": "2024-02-04T22:02:53.763930Z",
     "start_time": "2024-02-04T22:02:53.759552Z"
    }
   },
   "source": [
    "## box plot stats - modified data\n",
    "smogn.box_plot_stats(housing_smogn['SalePrice'])['stats']"
   ],
   "execution_count": 5,
   "outputs": [
    {
     "data": {
      "text/plain": "array([ 34900., 172500., 264479., 316609., 502956.])"
     },
     "execution_count": 5,
     "metadata": {},
     "output_type": "execute_result"
    }
   ]
  },
  {
   "cell_type": "markdown",
   "metadata": {
    "id": "Nex80wz1-VKY",
    "colab_type": "text"
   },
   "source": [
    "Plotting the results of both the original and modified training sets, the *skewed right* distribution of the response variable in the modified training set becomes more evident.\n",
    "\n",
    "In this example, SMOGN over-sampled observations whose `'SalePrice'` was found to be extremely high according to the box plot (those considered \"minority\") and under-sampled observations that were closer to the median (those considered \"majority\").\n",
    "\n",
    "This is the quickest implementation when the `y` values of interest in predicting may be unclear within a given dataset.\n",
    "\n"
   ]
  },
  {
   "cell_type": "code",
   "metadata": {
    "id": "mr_My8zHEM_9",
    "colab_type": "code",
    "outputId": "439e40b9-6360-4169-cd67-50c2f6001dd8",
    "colab": {
     "base_uri": "https://localhost:8080/",
     "height": 282
    },
    "ExecuteTime": {
     "end_time": "2024-02-04T22:02:56.417886Z",
     "start_time": "2024-02-04T22:02:56.246194Z"
    }
   },
   "source": [
    "## plot y distribution \n",
    "#replace inf with nan\n",
    "\n",
    "seaborn.kdeplot(housing['SalePrice'], label = \"Original\")\n",
    "seaborn.kdeplot(housing_smogn['SalePrice'], label = \"Modified\")"
   ],
   "execution_count": 6,
   "outputs": [
    {
     "data": {
      "text/plain": "<Axes: xlabel='SalePrice', ylabel='Density'>"
     },
     "execution_count": 6,
     "metadata": {},
     "output_type": "execute_result"
    },
    {
     "data": {
      "text/plain": "<Figure size 640x480 with 1 Axes>",
      "image/png": "[encoded data removed]"
     },
     "metadata": {},
     "output_type": "display_data"
    }
   ]
  },
  {
   "cell_type": "markdown",
   "metadata": {
    "id": "XA5_E-5oQF18",
    "colab_type": "text"
   },
   "source": [
    "## Conclusion\n",
    "In this example, we covered the fundamentals of SMOGN. We utilized the Ames Housing Dataset to conduct Synthetic Minority Over-Sampling Technique for Regression with Gaussian Noise with the minimum required arguments. \n",
    "\n",
    "SMOGN over-sampled \"minority\" values and under-sampled \"majority\" values in a continuous response variable. The results were briefly examined with the box plot's five number summary and plotted for visual confirmation.\n",
    "\n",
    "More examples, where additional features of SMOGN are explored can be found within the packages example directory. Developer updates are available in the package's Github repository at https://github.com/nickkunz/smogn. Official releases are available in the Python Package Index and can be found at https://pypi.org/project/smogn.\n",
    "\n"
   ]
  },
  {
   "cell_type": "markdown",
   "metadata": {
    "id": "rAQ5iGDJa2LM",
    "colab_type": "text"
   },
   "source": [
    "## References\n",
    "\n",
    "Branco, P., Torgo, L., Ribeiro, R. (2017). SMOGN: A Pre-Processing Approach for Imbalanced Regression. Proceedings of Machine Learning Research, 74:36-50. http://proceedings.mlr.press/v74/branco17a/branco17a.pdf.\n",
    "\n",
    "De Cock, D. (2011). Ames, Iowa: Alternative to the Boston Housing Data as an End of Semester Regression Project. Journal of Statistics Education 19(3). https://doi.org/10.1080/10691898.2011.11889627.\n",
    "\n",
    "Kunz, N. (2019). SMOGN: Synthetic Minority Over-Sampling for Regression with Gaussian Noise (Version 0.1.0). Python Package Index.\n",
    "https://pypi.org/project/smogn. "
   ]
  }
 ]
}
